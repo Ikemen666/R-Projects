{
 "cells": [
  {
   "cell_type": "code",
   "execution_count": 1,
   "metadata": {
    "collapsed": true
   },
   "outputs": [
    {
     "name": "stdout",
     "output_type": "stream",
     "text": [
      "package 'RCurl' successfully unpacked and MD5 sums checked\n",
      "\n",
      "The downloaded binary packages are in\n",
      "\tC:\\Users\\zoonl\\AppData\\Local\\Temp\\RtmpOAHsPv\\downloaded_packages\n",
      "package 'stargazer' successfully unpacked and MD5 sums checked\n",
      "\n",
      "The downloaded binary packages are in\n",
      "\tC:\\Users\\zoonl\\AppData\\Local\\Temp\\RtmpOAHsPv\\downloaded_packages\n",
      "package 'fredr' successfully unpacked and MD5 sums checked\n",
      "\n",
      "The downloaded binary packages are in\n",
      "\tC:\\Users\\zoonl\\AppData\\Local\\Temp\\RtmpOAHsPv\\downloaded_packages\n",
      "package 'tidyr' successfully unpacked and MD5 sums checked\n",
      "\n",
      "The downloaded binary packages are in\n",
      "\tC:\\Users\\zoonl\\AppData\\Local\\Temp\\RtmpOAHsPv\\downloaded_packages\n",
      "package 'PASWR2' successfully unpacked and MD5 sums checked\n",
      "\n",
      "The downloaded binary packages are in\n",
      "\tC:\\Users\\zoonl\\AppData\\Local\\Temp\\RtmpOAHsPv\\downloaded_packages\n",
      "package 'MASS' successfully unpacked and MD5 sums checked\n",
      "\n",
      "The downloaded binary packages are in\n",
      "\tC:\\Users\\zoonl\\AppData\\Local\\Temp\\RtmpOAHsPv\\downloaded_packages\n",
      "package 'repmis' successfully unpacked and MD5 sums checked\n",
      "\n",
      "The downloaded binary packages are in\n",
      "\tC:\\Users\\zoonl\\AppData\\Local\\Temp\\RtmpOAHsPv\\downloaded_packages\n",
      "package 'latex2exp' successfully unpacked and MD5 sums checked\n",
      "\n",
      "The downloaded binary packages are in\n",
      "\tC:\\Users\\zoonl\\AppData\\Local\\Temp\\RtmpOAHsPv\\downloaded_packages\n",
      "package 'dplyr' successfully unpacked and MD5 sums checked\n",
      "\n",
      "The downloaded binary packages are in\n",
      "\tC:\\Users\\zoonl\\AppData\\Local\\Temp\\RtmpOAHsPv\\downloaded_packages\n",
      "package 'ggplot2' successfully unpacked and MD5 sums checked\n",
      "\n",
      "The downloaded binary packages are in\n",
      "\tC:\\Users\\zoonl\\AppData\\Local\\Temp\\RtmpOAHsPv\\downloaded_packages\n",
      "package 'tidyverse' successfully unpacked and MD5 sums checked\n",
      "\n",
      "The downloaded binary packages are in\n",
      "\tC:\\Users\\zoonl\\AppData\\Local\\Temp\\RtmpOAHsPv\\downloaded_packages\n",
      "package 'haven' successfully unpacked and MD5 sums checked\n",
      "\n",
      "The downloaded binary packages are in\n",
      "\tC:\\Users\\zoonl\\AppData\\Local\\Temp\\RtmpOAHsPv\\downloaded_packages\n",
      "package 'margins' successfully unpacked and MD5 sums checked\n",
      "\n",
      "The downloaded binary packages are in\n",
      "\tC:\\Users\\zoonl\\AppData\\Local\\Temp\\RtmpOAHsPv\\downloaded_packages\n",
      "package 'caTools' successfully unpacked and MD5 sums checked\n",
      "\n",
      "The downloaded binary packages are in\n",
      "\tC:\\Users\\zoonl\\AppData\\Local\\Temp\\RtmpOAHsPv\\downloaded_packages\n"
     ]
    },
    {
     "name": "stderr",
     "output_type": "stream",
     "text": [
      "Warning message:\n",
      "\"package 'SDMTools' is not available (for R version 3.6.1)\""
     ]
    },
    {
     "name": "stdout",
     "output_type": "stream",
     "text": [
      "package 'caret' successfully unpacked and MD5 sums checked\n",
      "\n",
      "The downloaded binary packages are in\n",
      "\tC:\\Users\\zoonl\\AppData\\Local\\Temp\\RtmpOAHsPv\\downloaded_packages\n",
      "package 'randomForest' successfully unpacked and MD5 sums checked\n",
      "\n",
      "The downloaded binary packages are in\n",
      "\tC:\\Users\\zoonl\\AppData\\Local\\Temp\\RtmpOAHsPv\\downloaded_packages\n"
     ]
    }
   ],
   "source": [
    "install.packages(\"RCurl\", repos='http://cran.us.r-project.org')\n",
    "install.packages(\"stargazer\", repos='http://cran.us.r-project.org')\n",
    "install.packages(\"fredr\", repos='http://cran.us.r-project.org')\n",
    "install.packages(\"tidyr\", repos='http://cran.us.r-project.org')\n",
    "install.packages(\"PASWR2\", repos='http://cran.us.r-project.org')\n",
    "install.packages(\"MASS\", repos='http://cran.us.r-project.org')\n",
    "install.packages(\"repmis\", repos='http://cran.us.r-project.org')\n",
    "install.packages(\"latex2exp\", repos='http://cran.us.r-project.org')\n",
    "install.packages(\"dplyr\", repos='http://cran.us.r-project.org')\n",
    "install.packages(\"ggplot2\", repos='http://cran.us.r-project.org')\n",
    "install.packages(\"tidyverse\", repos='http://cran.us.r-project.org')\n",
    "install.packages(\"haven\", repos='http://cran.us.r-project.org')\n",
    "install.packages(\"margins\", repos='http://cran.us.r-project.org')\n",
    "install.packages(\"caTools\", repos='http://cran.us.r-project.org')\n",
    "install.packages(\"SDMTools\", repos='http://cran.us.r-project.org')\n",
    "install.packages(\"caret\", repos='http://cran.us.r-project.org')\n",
    "install.packages(\"randomForest\", repos='http://cran.us.r-project.org')"
   ]
  },
  {
   "cell_type": "code",
   "execution_count": 2,
   "metadata": {
    "collapsed": true
   },
   "outputs": [
    {
     "name": "stderr",
     "output_type": "stream",
     "text": [
      "Loading required package: xts\n",
      "Loading required package: zoo\n",
      "\n",
      "Attaching package: 'zoo'\n",
      "\n",
      "The following objects are masked from 'package:base':\n",
      "\n",
      "    as.Date, as.Date.numeric\n",
      "\n",
      "Registered S3 method overwritten by 'xts':\n",
      "  method     from\n",
      "  as.zoo.xts zoo \n",
      "Loading required package: TTR\n",
      "Registered S3 method overwritten by 'quantmod':\n",
      "  method            from\n",
      "  as.zoo.data.frame zoo \n",
      "Version 0.4-0 included new data defaults. See ?getSymbols.\n",
      "\n",
      "Please cite as: \n",
      "\n",
      " Hlavac, Marek (2018). stargazer: Well-Formatted Regression and Summary Statistics Tables.\n",
      " R package version 5.2.2. https://CRAN.R-project.org/package=stargazer \n",
      "\n",
      "Warning message:\n",
      "\"package 'fredr' was built under R version 3.6.3\"Warning message:\n",
      "\"package 'tidyr' was built under R version 3.6.3\"Warning message:\n",
      "\"package 'PASWR2' was built under R version 3.6.3\"Loading required package: lattice\n",
      "Loading required package: ggplot2\n",
      "Warning message:\n",
      "\"package 'ggplot2' was built under R version 3.6.3\"Warning message:\n",
      "\"package 'MASS' was built under R version 3.6.3\"Warning message:\n",
      "\"package 'repmis' was built under R version 3.6.3\"Warning message:\n",
      "\"package 'latex2exp' was built under R version 3.6.3\"Warning message:\n",
      "\"package 'dplyr' was built under R version 3.6.3\"\n",
      "Attaching package: 'dplyr'\n",
      "\n",
      "The following object is masked from 'package:MASS':\n",
      "\n",
      "    select\n",
      "\n",
      "The following objects are masked from 'package:xts':\n",
      "\n",
      "    first, last\n",
      "\n",
      "The following objects are masked from 'package:stats':\n",
      "\n",
      "    filter, lag\n",
      "\n",
      "The following objects are masked from 'package:base':\n",
      "\n",
      "    intersect, setdiff, setequal, union\n",
      "\n",
      "Warning message:\n",
      "\"package 'tidyverse' was built under R version 3.6.3\"-- Attaching packages --------------------------------------- tidyverse 1.3.0 --\n",
      "v tibble  3.0.4     v stringr 1.4.0\n",
      "v readr   1.3.1     v forcats 0.4.0\n",
      "v purrr   0.3.4     \n",
      "Warning message:\n",
      "\"package 'tibble' was built under R version 3.6.3\"Warning message:\n",
      "\"package 'purrr' was built under R version 3.6.3\"-- Conflicts ------------------------------------------ tidyverse_conflicts() --\n",
      "x dplyr::filter() masks stats::filter()\n",
      "x dplyr::first()  masks xts::first()\n",
      "x dplyr::lag()    masks stats::lag()\n",
      "x dplyr::last()   masks xts::last()\n",
      "x dplyr::select() masks MASS::select()\n",
      "Warning message:\n",
      "\"package 'RCurl' was built under R version 3.6.3\"\n",
      "Attaching package: 'RCurl'\n",
      "\n",
      "The following object is masked from 'package:tidyr':\n",
      "\n",
      "    complete\n",
      "\n",
      "Warning message:\n",
      "\"package 'haven' was built under R version 3.6.3\"Warning message:\n",
      "\"package 'margins' was built under R version 3.6.3\"Warning message:\n",
      "\"package 'caTools' was built under R version 3.6.3\""
     ]
    },
    {
     "ename": "ERROR",
     "evalue": "Error in library(SDMTools): there is no package called 'SDMTools'\n",
     "output_type": "error",
     "traceback": [
      "Error in library(SDMTools): there is no package called 'SDMTools'\nTraceback:\n",
      "1. library(SDMTools)"
     ]
    }
   ],
   "source": [
    "library(quantmod)\n",
    "library(stargazer)\n",
    "library(fredr)\n",
    "library(tidyr)\n",
    "library(PASWR2)\n",
    "library(MASS)\n",
    "library(repmis)\n",
    "library(latex2exp)\n",
    "library(dplyr)\n",
    "library(ggplot2)\n",
    "library(tidyverse)\n",
    "library(RCurl)\n",
    "library(haven)\n",
    "library(margins)\n",
    "library(caTools)\n",
    "library(SDMTools)\n",
    "library(caret)\n",
    "library(randomForest)"
   ]
  },
  {
   "cell_type": "markdown",
   "metadata": {},
   "source": [
    "# Recovery Predictor \n",
    "#### RE Date Analysis - Professor Tim Savage\n",
    "\n",
    "By: Wesley Li, Sen Chen"
   ]
  },
  {
   "cell_type": "markdown",
   "metadata": {},
   "source": [
    "## Section 1 - Data Set Selection\n",
    "### We first pulled all the leading indicators we can think of \n",
    "#### they are:\n",
    "#### 1) Yield Curve\n",
    "Difference between the 10 year and 3 year treasury yield show the <b>risk perception</b> of the market<br>\n",
    "Yield curve can <b>flatten</b> when investor rush into longer maturity treasuries to avoid short-term market risk<br>\n",
    "When the flattened or inverted yield curve start to bend back, potentially a <b>recovery/growth period</b> is pending\n"
   ]
  },
  {
   "cell_type": "code",
   "execution_count": 3,
   "metadata": {},
   "outputs": [
    {
     "data": {
      "image/png": "[encoded data removed]",
      "text/plain": [
       "Plot with title \"10YR - 3YR Yield Curve\""
      ]
     },
     "metadata": {},
     "output_type": "display_data"
    }
   ],
   "source": [
    "fredr_set_key('637fc784d3d9b76e86174d122a9c1c3d')\n",
    "yieldcurve = fredr('T10Y3MM')\n",
    "plot(yieldcurve$date, yieldcurve$value,col='black',main='10YR - 3YR Yield Curve', pch=16,\n",
    "    xlab='Date',ylab='bps')\n",
    "lines(yieldcurve$date,yieldcurve$value,col=\"black\")"
   ]
  },
  {
   "cell_type": "markdown",
   "metadata": {},
   "source": [
    "#### 2) Gross Domestic Product\n",
    "We expect to see some correlation between the <b>GDP growth rate</b> and the state of recovery, <b>one period lagging GDP</b> could also have correlation with the state of recovery "
   ]
  },
  {
   "cell_type": "code",
   "execution_count": 4,
   "metadata": {},
   "outputs": [
    {
     "data": {
      "image/png": "[encoded data removed]",
      "text/plain": [
       "Plot with title \"GDP\""
      ]
     },
     "metadata": {},
     "output_type": "display_data"
    }
   ],
   "source": [
    "GDP = fredr('GDP')\n",
    "plot(GDP$date, GDP$value,col='gold',main='GDP', pch=16,\n",
    "    xlab='Date',ylab='Value')\n",
    "lines(GDP$date,GDP$value,col=\"gold\")"
   ]
  },
  {
   "cell_type": "markdown",
   "metadata": {},
   "source": [
    "#### 3) Building Permit\n",
    "Monthly new building permits issued is an <b>leading indicator</b> to gauge the demand in the real estate market "
   ]
  },
  {
   "cell_type": "code",
   "execution_count": 5,
   "metadata": {},
   "outputs": [
    {
     "data": {
      "image/png": "[encoded data removed]",
      "text/plain": [
       "Plot with title \"Building Permit\""
      ]
     },
     "metadata": {},
     "output_type": "display_data"
    }
   ],
   "source": [
    "buildingpermit = fredr('PERMIT')\n",
    "plot(buildingpermit$date, buildingpermit$value,col='blue',main='Building Permit', pch=16,\n",
    "    xlab='Date',ylab='# of Permits')\n",
    "lines(buildingpermit$date,buildingpermit$value,col=\"blue\")"
   ]
  },
  {
   "cell_type": "markdown",
   "metadata": {},
   "source": [
    "#### 4) Moody's AAA Corp Bonds - 10 Year Treasury Credit Spread\n",
    "This dataset cover the <b>availability of credit</b> in the bond market<br>\n",
    "Credit Spread typically <b>widens</b> when concerns starts to mount about <b>corporation's ability to meet their debt obligation</b>, which is a real issue during recession<br>\n",
    "Spread naturally <b>narrows</b> when the macro environment starts to improve"
   ]
  },
  {
   "cell_type": "code",
   "execution_count": 6,
   "metadata": {},
   "outputs": [
    {
     "data": {
      "image/png": "[encoded data removed]",
      "text/plain": [
       "Plot with title \"Credit Spread\""
      ]
     },
     "metadata": {},
     "output_type": "display_data"
    }
   ],
   "source": [
    "creditspread = fredr('AAA10Y')\n",
    "plot(creditspread$date, creditspread$value,col='darkgreen',main='Credit Spread', pch=16,\n",
    "    xlab='Date',ylab='Bps')\n",
    "lines(creditspread$date,creditspread$value,col=\"darkgreen\")"
   ]
  },
  {
   "cell_type": "markdown",
   "metadata": {},
   "source": [
    "#### 5) Sectoral Balance\n",
    "<b>Public Account</b> measures the federal deficits while the <b>Private Account</b> measuures the private savings includes personal as well as corporate\n",
    "\n",
    "The level of <b>Private Sector</b> savings should to some level reflect the CPI level and the PCE level to certain extend\n",
    "The level of <b>Public Sector</b> savings or deficit measures the stimulation the government inject into the economy for a given period, this measure is expected to decrease as the economy recovers.\n",
    "\n",
    "FRED discountinued to publish monthly report on the <b>Foreign Account</b> for Sectoral Balance, however, since three account should net to <b>ZERO</b> two account is sufficient enough for analytical purposes"
   ]
  },
  {
   "cell_type": "code",
   "execution_count": 7,
   "metadata": {},
   "outputs": [
    {
     "data": {
      "image/png": "[encoded data removed]",
      "text/plain": [
       "Plot with title \"Sectoral Balance\""
      ]
     },
     "metadata": {},
     "output_type": "display_data"
    }
   ],
   "source": [
    "privateacct = fredr('W994RC1Q027SBEA')\n",
    "publicacct = fredr('AD01RC1Q027SBEA')\n",
    "a = merge(privateacct,publicacct,by.x='date',by.y='date')\n",
    "a1 = subset(a, select = c(date,value.x,value.y))\n",
    "anames = c('Date','Private Acct','Public Acct')\n",
    "colnames(a1)=anames\n",
    "plot(a1$Date, a1$`Private Acct`,col='darkgreen',main='Sectoral Balance', pch=16,\n",
    "     xlab='Date',ylab='Balance',ylim=c(-5500,5000))\n",
    "lines(a1$Date,a1$`Private Acct`,col=\"darkgreen\")\n",
    "points(a1$Date,a1$`Public Acct`,pch=16,col='darkred')\n",
    "lines(a1$Date,a1$`Public Acct`,col='darkred')"
   ]
  },
  {
   "cell_type": "markdown",
   "metadata": {},
   "source": [
    "#### 6) Effective Federal Fund Rate\n",
    "FFR directly affect many aspects of the economy, availability of credit, consumer spending behavior, mortgage refinance, to name a few<br>"
   ]
  },
  {
   "cell_type": "code",
   "execution_count": 8,
   "metadata": {},
   "outputs": [
    {
     "data": {
      "image/png": "[encoded data removed]",
      "text/plain": [
       "Plot with title \"Effective Federal Fund Rate\""
      ]
     },
     "metadata": {},
     "output_type": "display_data"
    }
   ],
   "source": [
    "fedfund = fredr('DFF')\n",
    "plot(fedfund$date, fedfund$value,col='red',main='Effective Federal Fund Rate', pch=16,\n",
    "    xlab='Date',ylab='%')\n",
    "lines(fedfund$date,fedfund$value,col=\"red\")"
   ]
  },
  {
   "cell_type": "markdown",
   "metadata": {},
   "source": [
    "#### 7) Unemployment Rate\n",
    "It goes without saying that the unemployment rate is one of the most important leading indicators to gauge the state of the economy. <b>More hiring</b> directly translates into <b>more spending</b> (at least in the US economy). We want to see if the level of unemplotment has the same predicative power of a recovery as it does on recession. "
   ]
  },
  {
   "cell_type": "code",
   "execution_count": 9,
   "metadata": {},
   "outputs": [
    {
     "data": {
      "image/png": "[encoded data removed]",
      "text/plain": [
       "Plot with title \"Unemployment Rate\""
      ]
     },
     "metadata": {},
     "output_type": "display_data"
    }
   ],
   "source": [
    "unemployment = fredr('UNRATE')\n",
    "plot(unemployment$date, unemployment$value,col='darkgrey',main='Unemployment Rate', pch=16,\n",
    "    xlab='Date',ylab='%')\n",
    "lines(unemployment$date,unemployment$value,col=\"darkgrey\")"
   ]
  },
  {
   "cell_type": "markdown",
   "metadata": {},
   "source": [
    "#### 8) WTI Spot Price\n",
    "Crude price is one of the most important indicators as its the level of its price can directly alter the way <b>many household allocate their income</b>. We picked WTI because it is <b>less</b> prone to <b>Exogenous Risk</b> when compared to Brent."
   ]
  },
  {
   "cell_type": "code",
   "execution_count": 10,
   "metadata": {},
   "outputs": [
    {
     "data": {
      "image/png": "[encoded data removed]",
      "text/plain": [
       "Plot with title \"WTI Spot Price\""
      ]
     },
     "metadata": {},
     "output_type": "display_data"
    }
   ],
   "source": [
    "crude = fredr('WTISPLC')\n",
    "plot(crude$date, crude$value,col='black',main='WTI Spot Price', pch=16,\n",
    "    xlab='Date',ylab='$')\n",
    "lines(crude$date,crude$value,col=\"black\")"
   ]
  },
  {
   "cell_type": "markdown",
   "metadata": {},
   "source": [
    "#### 9) CBOE Volatility Index\n",
    "Or VIX, measures the <b>Expected Price Fluctuation</b> in the SP500 over the <b>next 30 days</b>, this index serves as a great leading indicator of percieved risk in the stock market, which serves as a benchmark of risk-reward for many market participants"
   ]
  },
  {
   "cell_type": "code",
   "execution_count": 11,
   "metadata": {},
   "outputs": [
    {
     "data": {
      "image/png": "[encoded data removed]",
      "text/plain": [
       "Plot with title \"CBOE Volatility Index\""
      ]
     },
     "metadata": {},
     "output_type": "display_data"
    }
   ],
   "source": [
    "VIX = fredr('VIXCLS')\n",
    "plot(VIX$date, VIX$value,col='darkblue',main='CBOE Volatility Index', pch=16,\n",
    "    xlab='Date',ylab='Value')\n",
    "lines(VIX$date,VIX$value,col=\"darkblue\")"
   ]
  },
  {
   "cell_type": "markdown",
   "metadata": {},
   "source": [
    "#### 10) Manufacturer's New Order: Durable Goods \n",
    "Manufacturer's New Orders is a direct indicator on the supply side of the economy, this index gives a good impression on the <b>near term</b> and <b>future expected consumption</b> in the economy"
   ]
  },
  {
   "cell_type": "code",
   "execution_count": 12,
   "metadata": {},
   "outputs": [
    {
     "data": {
      "image/png": "[encoded data removed]",
      "text/plain": [
       "Plot with title \"Manufacturers New Order:Durable Goods\""
      ]
     },
     "metadata": {},
     "output_type": "display_data"
    }
   ],
   "source": [
    "manuorder = fredr('DGORDER')\n",
    "plot(manuorder$date, manuorder$value,col='darkgreen',main='Manufacturers New Order:Durable Goods', pch=16,\n",
    "    xlab='Date',ylab='Value')\n",
    "lines(manuorder$date,manuorder$value,col=\"darkgreen\")"
   ]
  },
  {
   "cell_type": "markdown",
   "metadata": {},
   "source": [
    "## Section 2 - Initial Analysis (Simple Linear Regression)\n",
    "We started by curating the recession indicator so that when the economy is <b>not in recession</b>, the indicator would return <b>1</b> to make the analysis easier to understand"
   ]
  },
  {
   "cell_type": "code",
   "execution_count": 13,
   "metadata": {},
   "outputs": [
    {
     "data": {
      "image/png": "[encoded data removed]",
      "text/plain": [
       "Plot with title \"Recession Indicator\""
      ]
     },
     "metadata": {},
     "output_type": "display_data"
    }
   ],
   "source": [
    "recession = fredr('USREC')\n",
    "recession$value = recession$value - 1 \n",
    "recession$value[recession$value == -1] <- 1\n",
    "plot(recession$date, recession$value,col='darkred',main='Recession Indicator', pch=20,\n",
    "    xlab='Date',ylab='State of the Economy')\n",
    "lines(recession$date,recession$value,col=\"darkred\")"
   ]
  },
  {
   "cell_type": "code",
   "execution_count": 14,
   "metadata": {},
   "outputs": [],
   "source": [
    "##df1 yield curve\n",
    "df1 = merge(recession, yieldcurve, by.x='date',by.y='date')\n",
    "##df2 GDP\n",
    "df2 = merge(recession,GDP, by.x='date', by.y='date')\n",
    "##df3 buildingpermit\n",
    "df3 = merge(recession,buildingpermit, by.x='date', by.y='date')\n",
    "##df4 creditspread\n",
    "df4 = merge(recession, creditspread, by.x='date', by.y='date')\n",
    "##df5 private acct and publicacct\n",
    "df5 = merge(merge(recession,publicacct, by.x='date', by.y='date'),privateacct,by.x='date',by.y='date')\n",
    "##df6 effective federal fund rate \n",
    "df6 = merge(recession, fedfund, by.x='date', by.y='date')\n",
    "## Unemployment rate \n",
    "df7 = merge(recession, unemployment, by.x='date', by.y='date')\n",
    "## WTI spot price\n",
    "df8 = merge(recession, crude, by.x='date', by.y='date')\n",
    "## VIX level\n",
    "df9 = merge(recession, VIX, by.x='date', by.y='date')\n",
    "## Manufacturer's New Order, as there is no PMI index provided by FRED\n",
    "df10 = merge(recession, manuorder, by.x='date', by.y='date')"
   ]
  },
  {
   "cell_type": "code",
   "execution_count": 15,
   "metadata": {},
   "outputs": [],
   "source": [
    "oadf1 = subset(df1,select = c(date,value.x,value.y))\n",
    "oadf2 = subset(df2,select = c(date,value.x,value.y))\n",
    "oadf3 = subset(df3,select = c(date,value.x,value.y))\n",
    "oadf4 = subset(df4,select = c(date,value.x,value.y))\n",
    "oadf5 = subset(df5,select = c(date,value.x,value.y,value))\n",
    "oadf6 = subset(df6,select = c(date,value.x,value.y))\n",
    "oadf7 = subset(df6,select = c(date,value.x,value.y))\n",
    "oadf8 = subset(df6,select = c(date,value.x,value.y))\n",
    "oadf9 = subset(df6,select = c(date,value.x,value.y))\n",
    "oadf10 = subset(df6,select = c(date,value.x,value.y))"
   ]
  },
  {
   "cell_type": "code",
   "execution_count": 16,
   "metadata": {},
   "outputs": [],
   "source": [
    "names1 = c('date','recession','yieldcurve')\n",
    "names2 = c('date','recession','GDP')\n",
    "names3 = c('date','recession','buildingpermit')\n",
    "names4 = c('date','recession','creditspread')\n",
    "names5 = c('date','recession','publicacct','privateacct')\n",
    "names6 = c('date','recession','fedfund')\n",
    "names7 = c('date','recession','unemployment')\n",
    "names8 = c('date','recession','crude')\n",
    "names9 = c('date','recession','VIX')\n",
    "names10 = c('date','recession','manuorder')"
   ]
  },
  {
   "cell_type": "code",
   "execution_count": 17,
   "metadata": {},
   "outputs": [],
   "source": [
    "colnames(oadf1) = names1\n",
    "colnames(oadf2) = names2\n",
    "colnames(oadf3) = names3\n",
    "colnames(oadf4) = names4\n",
    "colnames(oadf5) = names5\n",
    "colnames(oadf6) = names6\n",
    "colnames(oadf7) = names7\n",
    "colnames(oadf8) = names8\n",
    "colnames(oadf9) = names9\n",
    "colnames(oadf10) = names10"
   ]
  },
  {
   "cell_type": "code",
   "execution_count": 18,
   "metadata": {
    "scrolled": true
   },
   "outputs": [],
   "source": [
    "oadf1$yieldcurve = oadf1$yieldcurve * 100\n",
    "oadf4$creditspread = oadf4$creditspread * 100\n",
    "oadf6$fedfund = oadf6$fedfund * 100\n",
    "oadf7$unemployment = oadf7$unemployment * 100\n",
    "\n",
    "oadf1$yieldcurve.l1 =lag(oadf1$yieldcurve,1)\n",
    "oadf2$GDP.l1 = lag(oadf2$GDP,1)\n",
    "oadf4$creditspread.l1 = lag(oadf4$creditspread,1)"
   ]
  },
  {
   "cell_type": "markdown",
   "metadata": {},
   "source": [
    "Some data refining is done here, to make the <b>Yield Curve</b>, <b>Credit Spread</b>, <b>Effective Federal Fund Rate</b>and <b>Unemployment Rate</b> to show in basis points \n",
    "\n",
    "Then we choose to run <b>Simple Linear Regression</b>on all ten datasets <b>individually</b> against the recovery indicator. This is partly due to the varing time range afforded by these datasets, we do not wish to compromise on the accuracy of the outcome by cutting down on the size of every datasets"
   ]
  },
  {
   "cell_type": "code",
   "execution_count": 19,
   "metadata": {},
   "outputs": [],
   "source": [
    "mlr1 = lm(recession ~ yieldcurve.l1 + yieldcurve, data = oadf1)\n",
    "mlr2 = lm(recession ~ GDP + GDP.l1, data = oadf2)\n",
    "mlr3 = lm(recession ~ buildingpermit, data = oadf3)\n",
    "mlr4 = lm(recession ~ creditspread.l1 + creditspread, data = oadf4)\n",
    "mlr5 = lm(recession ~ publicacct + privateacct,data = oadf5)\n",
    "mlr6 = lm(recession ~ fedfund,data = oadf6)\n",
    "mlr7 = lm(recession ~ unemployment,data = oadf7)\n",
    "mlr8 = lm(recession ~ crude,data = oadf8)\n",
    "mlr9 = lm(recession ~ VIX,data = oadf9)\n",
    "mlr10 = lm(recession ~ manuorder,data = oadf10)"
   ]
  },
  {
   "cell_type": "code",
   "execution_count": 20,
   "metadata": {
    "collapsed": true
   },
   "outputs": [
    {
     "name": "stdout",
     "output_type": "stream",
     "text": [
      "\n",
      "recession v yieldcurve\n",
      "===============================================\n",
      "                        Dependent variable:    \n",
      "                    ---------------------------\n",
      "                             recession         \n",
      "-----------------------------------------------\n",
      "yieldcurve.l1         0.002*** (0.001, 0.003)  \n",
      "yieldcurve          -0.002*** (-0.003, -0.001) \n",
      "Constant              0.880*** (0.827, 0.933)  \n",
      "-----------------------------------------------\n",
      "Observations                    466            \n",
      "R2                             0.037           \n",
      "Adjusted R2                    0.032           \n",
      "Residual Std. Error      0.313 (df = 463)      \n",
      "F Statistic           8.779*** (df = 2; 463)   \n",
      "===============================================\n",
      "Note:               *p<0.1; **p<0.05; ***p<0.01\n",
      "\n",
      "recession v GDP\n",
      "================================================\n",
      "                        Dependent variable:     \n",
      "                    ----------------------------\n",
      "                             recession          \n",
      "------------------------------------------------\n",
      "GDP                  0.0003*** (0.0001, 0.001)  \n",
      "GDP.l1              -0.0003*** (-0.001, -0.0001)\n",
      "Constant              0.821*** (0.765, 0.877)   \n",
      "------------------------------------------------\n",
      "Observations                    294             \n",
      "R2                             0.032            \n",
      "Adjusted R2                    0.026            \n",
      "Residual Std. Error       0.346 (df = 291)      \n",
      "F Statistic            4.836*** (df = 2; 291)   \n",
      "================================================\n",
      "Note:                *p<0.1; **p<0.05; ***p<0.01\n",
      "\n",
      "recession v buildingpermit\n",
      "===============================================\n",
      "                        Dependent variable:    \n",
      "                    ---------------------------\n",
      "                             recession         \n",
      "-----------------------------------------------\n",
      "buildingpermit      0.0003*** (0.0002, 0.0003) \n",
      "Constant              0.476*** (0.388, 0.564)  \n",
      "-----------------------------------------------\n",
      "Observations                    730            \n",
      "R2                             0.099           \n",
      "Adjusted R2                    0.098           \n",
      "Residual Std. Error      0.328 (df = 728)      \n",
      "F Statistic           80.262*** (df = 1; 728)  \n",
      "===============================================\n",
      "Note:               *p<0.1; **p<0.05; ***p<0.01\n",
      "\n",
      "recession v creditspread\n",
      "===============================================\n",
      "                        Dependent variable:    \n",
      "                    ---------------------------\n",
      "                             recession         \n",
      "-----------------------------------------------\n",
      "creditspread.l1      -0.002* (-0.004, 0.0002)  \n",
      "creditspread          0.0001 (-0.002, 0.002)   \n",
      "Constant              1.130*** (1.038, 1.223)  \n",
      "-----------------------------------------------\n",
      "Observations                    252            \n",
      "R2                             0.089           \n",
      "Adjusted R2                    0.081           \n",
      "Residual Std. Error      0.265 (df = 249)      \n",
      "F Statistic           12.118*** (df = 2; 249)  \n",
      "===============================================\n",
      "Note:               *p<0.1; **p<0.05; ***p<0.01\n",
      "\n",
      "recession v public v private account\n",
      "===============================================\n",
      "                        Dependent variable:    \n",
      "                    ---------------------------\n",
      "                             recession         \n",
      "-----------------------------------------------\n",
      "publicacct          -0.0001 (-0.0003, 0.00005) \n",
      "privateacct         -0.0002* (-0.0004, 0.00000)\n",
      "Constant              0.867*** (0.811, 0.924)  \n",
      "-----------------------------------------------\n",
      "Observations                    242            \n",
      "R2                             0.019           \n",
      "Adjusted R2                    0.011           \n",
      "Residual Std. Error      0.333 (df = 239)      \n",
      "F Statistic            2.329* (df = 2; 239)    \n",
      "===============================================\n",
      "Note:               *p<0.1; **p<0.05; ***p<0.01\n",
      "\n",
      "Effective Federal Fund Rate\n",
      "=================================================\n",
      "                         Dependent variable:     \n",
      "                    -----------------------------\n",
      "                              recession          \n",
      "-------------------------------------------------\n",
      "fedfund             -0.0002*** (-0.0002, -0.0001)\n",
      "Constant               0.940*** (0.901, 0.978)   \n",
      "-------------------------------------------------\n",
      "Observations                     797             \n",
      "R2                              0.031            \n",
      "Adjusted R2                     0.030            \n",
      "Residual Std. Error       0.340 (df = 795)       \n",
      "F Statistic            25.528*** (df = 1; 795)   \n",
      "=================================================\n",
      "Note:                 *p<0.1; **p<0.05; ***p<0.01\n",
      "\n",
      "Unemployment Rate\n",
      "=================================================\n",
      "                         Dependent variable:     \n",
      "                    -----------------------------\n",
      "                              recession          \n",
      "-------------------------------------------------\n",
      "unemployment        -0.0002*** (-0.0002, -0.0001)\n",
      "Constant               0.940*** (0.901, 0.978)   \n",
      "-------------------------------------------------\n",
      "Observations                     797             \n",
      "R2                              0.031            \n",
      "Adjusted R2                     0.030            \n",
      "Residual Std. Error       0.340 (df = 795)       \n",
      "F Statistic            25.528*** (df = 1; 795)   \n",
      "=================================================\n",
      "Note:                 *p<0.1; **p<0.05; ***p<0.01\n",
      "\n",
      "WTI Spot Price\n",
      "===============================================\n",
      "                        Dependent variable:    \n",
      "                    ---------------------------\n",
      "                             recession         \n",
      "-----------------------------------------------\n",
      "crude               -0.016*** (-0.022, -0.010) \n",
      "Constant              0.940*** (0.901, 0.978)  \n",
      "-----------------------------------------------\n",
      "Observations                    797            \n",
      "R2                             0.031           \n",
      "Adjusted R2                    0.030           \n",
      "Residual Std. Error      0.340 (df = 795)      \n",
      "F Statistic           25.528*** (df = 1; 795)  \n",
      "===============================================\n",
      "Note:               *p<0.1; **p<0.05; ***p<0.01\n",
      "\n",
      "VIX\n",
      "===============================================\n",
      "                        Dependent variable:    \n",
      "                    ---------------------------\n",
      "                             recession         \n",
      "-----------------------------------------------\n",
      "VIX                 -0.016*** (-0.022, -0.010) \n",
      "Constant              0.940*** (0.901, 0.978)  \n",
      "-----------------------------------------------\n",
      "Observations                    797            \n",
      "R2                             0.031           \n",
      "Adjusted R2                    0.030           \n",
      "Residual Std. Error      0.340 (df = 795)      \n",
      "F Statistic           25.528*** (df = 1; 795)  \n",
      "===============================================\n",
      "Note:               *p<0.1; **p<0.05; ***p<0.01\n",
      "\n",
      "Manufacturere New Order\n",
      "===============================================\n",
      "                        Dependent variable:    \n",
      "                    ---------------------------\n",
      "                             recession         \n",
      "-----------------------------------------------\n",
      "manuorder           -0.016*** (-0.022, -0.010) \n",
      "Constant              0.940*** (0.901, 0.978)  \n",
      "-----------------------------------------------\n",
      "Observations                    797            \n",
      "R2                             0.031           \n",
      "Adjusted R2                    0.030           \n",
      "Residual Std. Error      0.340 (df = 795)      \n",
      "F Statistic           25.528*** (df = 1; 795)  \n",
      "===============================================\n",
      "Note:               *p<0.1; **p<0.05; ***p<0.01\n"
     ]
    }
   ],
   "source": [
    "result1 = stargazer(mlr1, type='text', title='recession v yieldcurve',single.row=TRUE,\n",
    "          ci = TRUE, ci.level=0.95)\n",
    "result2 = stargazer(mlr2, type='text', title='recession v GDP',single.row=TRUE,\n",
    "                    ci = TRUE, ci.level=0.95)\n",
    "result3 = stargazer(mlr3, type='text', title='recession v buildingpermit',single.row=TRUE,\n",
    "                    ci = TRUE, ci.level=0.95)\n",
    "result4 = stargazer(mlr4, type='text', title='recession v creditspread',single.row=TRUE,\n",
    "                    ci = TRUE, ci.level=0.95)\n",
    "result5 = stargazer(mlr5, type='text', title='recession v public v private account',single.row=TRUE,\n",
    "                    ci = TRUE, ci.level=0.95)\n",
    "result6 = stargazer(mlr6, type='text', title='Effective Federal Fund Rate',single.row=TRUE,\n",
    "                    ci = TRUE, ci.level=0.95)\n",
    "result7 = stargazer(mlr7, type='text', title='Unemployment Rate',single.row=TRUE,\n",
    "                    ci = TRUE, ci.level=0.95)\n",
    "result8 = stargazer(mlr8, type='text', title='WTI Spot Price',single.row=TRUE,\n",
    "                    ci = TRUE, ci.level=0.95)\n",
    "result9 = stargazer(mlr9, type='text', title='VIX',single.row=TRUE,\n",
    "                    ci = TRUE, ci.level=0.95)\n",
    "result10 = stargazer(mlr10, type='text', title='Manufacturere New Order',single.row=TRUE,\n",
    "                    ci = TRUE, ci.level=0.95)\n"
   ]
  },
  {
   "cell_type": "markdown",
   "metadata": {},
   "source": [
    "After running the Simple Linear Regression, we <b>failed to reject</b> the null hypothesis that the indicator is uncorrelated with the state of the economy on <b>four out of the ten</b> indicators.\n",
    "\n",
    "<b>Yield Curve, Building Permit, Effective Fed Fund Rate, Unemployment Rate, WTI Spot,VIX and Manufactuere's New Orders</b> all proved to have statistical significance and have correlation to the state of recovery\n",
    "\n",
    "With the the surviving indicators, we are ready to run a <b>Multi-linear Regression Model</b> "
   ]
  },
  {
   "cell_type": "code",
   "execution_count": 21,
   "metadata": {
    "collapsed": true
   },
   "outputs": [
    {
     "name": "stdout",
     "output_type": "stream",
     "text": [
      "\n",
      "Recovery Model\n",
      "===============================================\n",
      "                        Dependent variable:    \n",
      "                    ---------------------------\n",
      "                             recovery          \n",
      "-----------------------------------------------\n",
      "yieldcurve           0.0001 (-0.0003, 0.0005)  \n",
      "buildingpermit        -0.001 (-0.012, 0.011)   \n",
      "VIX                 -0.019*** (-0.024, -0.014) \n",
      "fedfund              -0.0001 (-0.0003, 0.0001) \n",
      "unemployment          -0.018 (-0.047, 0.010)   \n",
      "crude                 -0.001 (-0.003, 0.0004)  \n",
      "Constant              1.460*** (1.104, 1.816)  \n",
      "-----------------------------------------------\n",
      "Observations                    235            \n",
      "R2                             0.268           \n",
      "Adjusted R2                    0.249           \n",
      "Residual Std. Error      0.268 (df = 228)      \n",
      "F Statistic           13.909*** (df = 6; 228)  \n",
      "===============================================\n",
      "Note:               *p<0.1; **p<0.05; ***p<0.01\n"
     ]
    }
   ],
   "source": [
    "buildingpermit$value = buildingpermit$value/100\n",
    "yieldcurve$value = yieldcurve$value * 100\n",
    "fedfund$value = fedfund$value * 100\n",
    "keepdf =merge(merge(recession, yieldcurve, by.x='date',by.y='date'),merge(buildingpermit,VIX, by.x='date',by.y='date'),by.x='date',by.y='date')\n",
    "keepdf2 = merge(merge(fedfund,unemployment,by.x='date',by.y='date'),crude, by.x='date', by.y='date')\n",
    "masterdf = merge(keepdf, keepdf2,by.x='date', by.y='date')\n",
    "\n",
    "masterdf1 = subset(masterdf,select = c(date,value.x.x,value.y.x,value.x.y,value.y.y,value.x,value.y,value))\n",
    "masternames = c('date', 'recovery','yieldcurve','buildingpermit','VIX','fedfund','unemployment','crude')\n",
    "colnames(masterdf1) = masternames\n",
    "\n",
    "model =lm(recovery ~ yieldcurve + buildingpermit + VIX + fedfund + unemployment + crude,\n",
    "          data = masterdf1)\n",
    "stargazer(model, type='text', title='Recovery Model',single.row=TRUE,\n",
    "          ci = TRUE, ci.level=0.95)"
   ]
  },
  {
   "cell_type": "code",
   "execution_count": 22,
   "metadata": {},
   "outputs": [
    {
     "data": {
      "text/html": [
       "<strong>(Intercept):</strong> 0.769312951187729"
      ],
      "text/latex": [
       "\\textbf{(Intercept):} 0.769312951187729"
      ],
      "text/markdown": [
       "**(Intercept):** 0.769312951187729"
      ],
      "text/plain": [
       "(Intercept) \n",
       "   0.769313 "
      ]
     },
     "metadata": {},
     "output_type": "display_data"
    }
   ],
   "source": [
    "rprobability = model$coefficients[1] + model$coefficients[2]*69 + model$coefficients[3]* 15.44 + model$coefficients[4]*26.7 + model$coefficients[5]*9 + model$coefficients[6]*6.9 + model$coefficients[7]*39.4\n",
    "rprobability"
   ]
  },
  {
   "cell_type": "markdown",
   "metadata": {},
   "source": [
    "As indicated above, the <b>MLR</b> predict there is <b>76.93%</b> probability the economy will be in recovery by the next month \n",
    "\n",
    "With this as a reference metric, we can move on to the <b>Logit Model</b> \n",
    "\n",
    "## Section 3 - Logit Model\n",
    "At this point, all the datasets are merged into one master dataframe, <b>Logit Model</b> is very easy to run"
   ]
  },
  {
   "cell_type": "code",
   "execution_count": 23,
   "metadata": {
    "collapsed": true
   },
   "outputs": [
    {
     "name": "stdout",
     "output_type": "stream",
     "text": [
      "\n",
      "Logit Model\n",
      "===============================================\n",
      "                       Dependent variable:     \n",
      "                  -----------------------------\n",
      "                            recovery           \n",
      "-----------------------------------------------\n",
      "yieldcurve          -0.0014 (-0.0080, 0.0051)  \n",
      "buildingpermit      -0.1191 (-0.3573, 0.1190)  \n",
      "VIX               -0.2067*** (-0.2876, -0.1258)\n",
      "fedfund            -0.0041* (-0.0085, 0.0002)  \n",
      "unemployment        -0.3732 (-0.8825, 0.1362)  \n",
      "crude             -0.0327** (-0.0619, -0.0034) \n",
      "Constant          13.8430*** (4.4149, 23.2712) \n",
      "-----------------------------------------------\n",
      "Observations                   235             \n",
      "Log Likelihood              -52.6600           \n",
      "Akaike Inf. Crit.           119.3201           \n",
      "===============================================\n",
      "Note:               *p<0.1; **p<0.05; ***p<0.01\n"
     ]
    }
   ],
   "source": [
    "mastermodel = glm(recovery ~ yieldcurve + buildingpermit + VIX + fedfund + unemployment + crude,data = masterdf1, family = 'binomial')\n",
    "stargazer(mastermodel,type='text',title ='Logit Model', single.row = TRUE,\n",
    "          ci=TRUE,ci.level=0.95,digits =4)"
   ]
  },
  {
   "cell_type": "markdown",
   "metadata": {},
   "source": [
    "With the outcome from the stargazer, we are able to construct the following function"
   ]
  },
  {
   "cell_type": "code",
   "execution_count": 24,
   "metadata": {},
   "outputs": [
    {
     "data": {
      "text/html": [
       "<strong>(Intercept):</strong> 0.923277904213389"
      ],
      "text/latex": [
       "\\textbf{(Intercept):} 0.923277904213389"
      ],
      "text/markdown": [
       "**(Intercept):** 0.923277904213389"
      ],
      "text/plain": [
       "(Intercept) \n",
       "  0.9232779 "
      ]
     },
     "metadata": {},
     "output_type": "display_data"
    }
   ],
   "source": [
    "r = exp(mastermodel$coefficients[1]\n",
    "        +mastermodel$coefficients[2]*69\n",
    "        +mastermodel$coefficients[3]*15.44\n",
    "        +mastermodel$coefficients[4]*26.7\n",
    "        +mastermodel$coefficients[5]*9\n",
    "        +mastermodel$coefficients[6]*6.9\n",
    "        +mastermodel$coefficients[7]*39.4)\n",
    "\n",
    "logp = r/(1+r)\n",
    "logp"
   ]
  },
  {
   "cell_type": "markdown",
   "metadata": {},
   "source": [
    "The function indicates that the <b>Logit Model</b>, based on the most recent month's data from the <b>Six Indicators</b>\n",
    "the probability of recovery in the next month is <b>92.58%</b>\n",
    "\n",
    "What is left to do is to construct a <b>Confusion Matrix</b> with both training and test set to see the \n",
    "- <b>Accuracy</b>\n",
    "- <b>Sensitivity(TPR):</b> samples that were correctly classified as recession\n",
    "- <b>Specificity(TNR):</b> percentage of the recovery samples that are correctly identified \n",
    "- <b>False Positive Rate:</b> (1-Sensitivity) the percentage of the recovery samples that were incorrectly classified as recession\n",
    "\n",
    "of the above model"
   ]
  },
  {
   "cell_type": "code",
   "execution_count": 25,
   "metadata": {},
   "outputs": [
    {
     "data": {
      "text/plain": [
       "       \n",
       "         0  1\n",
       "  FALSE  4  5\n",
       "  TRUE   3 74"
      ]
     },
     "metadata": {},
     "output_type": "display_data"
    },
    {
     "data": {
      "text/html": [
       "90.7"
      ],
      "text/latex": [
       "90.7"
      ],
      "text/markdown": [
       "90.7"
      ],
      "text/plain": [
       "[1] 90.7"
      ]
     },
     "metadata": {},
     "output_type": "display_data"
    },
    {
     "data": {
      "text/html": [
       "57.14"
      ],
      "text/latex": [
       "57.14"
      ],
      "text/markdown": [
       "57.14"
      ],
      "text/plain": [
       "[1] 57.14"
      ]
     },
     "metadata": {},
     "output_type": "display_data"
    },
    {
     "data": {
      "text/html": [
       "93.67"
      ],
      "text/latex": [
       "93.67"
      ],
      "text/markdown": [
       "93.67"
      ],
      "text/plain": [
       "[1] 93.67"
      ]
     },
     "metadata": {},
     "output_type": "display_data"
    }
   ],
   "source": [
    "set.seed(632)\n",
    "split_log = sample.split(masterdf1,SplitRatio=0.7)\n",
    "train = subset(masterdf1,split_log==T)\n",
    "test = subset(masterdf1,split_log==F)\n",
    "mod_log = glm(recovery ~ yieldcurve + buildingpermit + VIX + fedfund + unemployment + crude, data = train, family='binomial')\n",
    "result = predict(mod_log,newdata = test, type = 'response')\n",
    "\n",
    "confm = table(result>0.7,test$recovery)\n",
    "confm\n",
    "\n",
    "accuracy = sum(diag(confm))/sum(confm)*100\n",
    "sens = confm[1]/(confm[2]+confm[1])\n",
    "spec = confm[4]/(confm[3]+confm[4])\n",
    "\n",
    "round(accuracy,2)\n",
    "round(sens*100,2)\n",
    "round(spec*100,2)"
   ]
  },
  {
   "cell_type": "markdown",
   "metadata": {},
   "source": [
    "As indicated above, the <b> Logit Model</b> based on the <b>Six Indicators</b>, has:\n",
    "- <b>an Accuracy of 90.69%</b>\n",
    "- <b>True Positive Rate of 57.14%</b>\n",
    "- <b>True Negative Rate</b> (Specificity) <b>of 93.67%</b>\n",
    "- <b>False Positive Rate of 6.33%</b> (1-Specificity)\n",
    "<br>\n",
    "<br>\n",
    "based on the <b>Discriminant Threshold</b> that the economy is <b> in the state of recovery 70% of the time</b>\n",
    "\n",
    "<br>\n",
    "<br>\n",
    "Next, we reduced the threshold to the <b>Population Mean</b> of the test set"
   ]
  },
  {
   "cell_type": "code",
   "execution_count": 26,
   "metadata": {},
   "outputs": [
    {
     "data": {
      "text/plain": [
       "       \n",
       "         0  1\n",
       "  FALSE  6 23\n",
       "  TRUE   1 56"
      ]
     },
     "metadata": {},
     "output_type": "display_data"
    },
    {
     "data": {
      "text/html": [
       "72.09"
      ],
      "text/latex": [
       "72.09"
      ],
      "text/markdown": [
       "72.09"
      ],
      "text/plain": [
       "[1] 72.09"
      ]
     },
     "metadata": {},
     "output_type": "display_data"
    },
    {
     "data": {
      "text/html": [
       "85.71"
      ],
      "text/latex": [
       "85.71"
      ],
      "text/markdown": [
       "85.71"
      ],
      "text/plain": [
       "[1] 85.71"
      ]
     },
     "metadata": {},
     "output_type": "display_data"
    },
    {
     "data": {
      "text/html": [
       "70.89"
      ],
      "text/latex": [
       "70.89"
      ],
      "text/markdown": [
       "70.89"
      ],
      "text/plain": [
       "[1] 70.89"
      ]
     },
     "metadata": {},
     "output_type": "display_data"
    },
    {
     "data": {
      "text/plain": [
       "\n",
       "  0   1 \n",
       " 30 233 "
      ]
     },
     "metadata": {},
     "output_type": "display_data"
    },
    {
     "data": {
      "text/html": [
       "88.59"
      ],
      "text/latex": [
       "88.59"
      ],
      "text/markdown": [
       "88.59"
      ],
      "text/plain": [
       "[1] 88.59"
      ]
     },
     "metadata": {},
     "output_type": "display_data"
    }
   ],
   "source": [
    "mean = mean(test$recovery)\n",
    "confm1 = table(result>mean,test$recovery)\n",
    "confm1\n",
    "\n",
    "accuracy1 = sum(diag(confm1))/sum(confm1)\n",
    "sens1 = confm1[1]/(confm1[2]+confm1[1])*100\n",
    "spec1 = confm1[4]/(confm1[3]+confm1[4])*100\n",
    "\n",
    "round(accuracy1*100,2)\n",
    "round(sens1,2) \n",
    "round(spec1,2)\n",
    "\n",
    "table(masterdf1$recovery)\n",
    "round(233/(30+233)*100,2)"
   ]
  },
  {
   "cell_type": "markdown",
   "metadata": {},
   "source": [
    "In the <b>Threshold = Mean</b> case, the Model has: \n",
    "- <b>an Accuracy of 72.09%</b>\n",
    "- <b>True Positive Rate of 85.71%</b>\n",
    "- <b>True Negative Rate</b> (Specificity) <b>of 70.89%</b>\n",
    "- <b>False Positive Rate of 29.11%</b> (1-Specificity)\n",
    "\n",
    "<br>\n",
    "Though, when compared to the <b>Recovery Indicator</b> itself - which has an <b>Accuracy of 88.59%</b> - our model lacks <b>16%</b> in accuracy, it still trumps the <b>50%</b> prbability you get from random guessing "
   ]
  },
  {
   "cell_type": "markdown",
   "metadata": {},
   "source": [
    "## Section 4 - Conclusion"
   ]
  },
  {
   "cell_type": "markdown",
   "metadata": {},
   "source": [
    "#### Risk and Problems\n",
    "The recovery indicator is binary, in recession and not in recession, which makes our recovery indicator binary<br> \n",
    "Naturally, the state of the economy is not binary.<br>\n",
    "There are cycles. The <b>periods leading up to a recession</b> and <b>growth/expansion periods</b> <b>SHOULD NOT</b> be classified as recovery periods.<br>\n",
    "We weren't able to find an optimal way to address this problem. "
   ]
  },
  {
   "cell_type": "markdown",
   "metadata": {},
   "source": [
    "Some of the datasets are prone to <b>exogenous risks</b> outside of the notion of recovery and/or recession.<br>\n",
    "For example, the VIX index may subject to market participant risks, WTI to legal and political risks, durable goods to geopolitical risks, the interest rate to policy risk, to name a few. "
   ]
  },
  {
   "cell_type": "markdown",
   "metadata": {},
   "source": [
    "#### What We've Learned\n",
    "In the process of building this model, we learned that many theoritical relationship that seemed intuitive may break down with real world data.<br> Building this model has made us to rethink a lot of our non-data-analytics formed opinions and reimagine the way we could potentially approach our future projects. "
   ]
  }
 ],
 "metadata": {
  "kernelspec": {
   "display_name": "R",
   "language": "R",
   "name": "ir"
  },
  "language_info": {
   "codemirror_mode": "r",
   "file_extension": ".r",
   "mimetype": "text/x-r-source",
   "name": "R",
   "pygments_lexer": "r",
   "version": "3.6.1"
  }
 },
 "nbformat": 4,
 "nbformat_minor": 4
}
